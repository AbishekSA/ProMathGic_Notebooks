{
 "cells": [
  {
   "cell_type": "markdown",
   "metadata": {},
   "source": [
    "\n",
    "___\n",
    "\n",
    "<img src='final_art.jpg' width=\"750\">\n",
    "\n",
    "___\n",
    "\n",
    "# ProMathGic Series #1\n",
    "\n",
    "Reveal of the card trick explained using Python !\n",
    "\n",
    "**This notebook will use the below basic topics:**\n",
    "\n",
    "* Data types\n",
    "    * Numbers\n",
    "    * Strings\n",
    "    * Lists\n",
    "* if Statement\n",
    "* for Loop\n",
    "* range()\n",
    "* list comprehension\n",
    "* Functions\n",
    "\n",
    "##### Like | Share | Subscribe to :  <a href=\"https://www.youtube.com/channel/UCY94xPO3da1xtmKgWQriuPw?sub_confirmation=1\">ASA Learning</a> | <a href=\"https://www.youtube.com/channel/UCRuIm3NMzupmtUuX8DIasvQ?sub_confirmation=1\">ASA Learning Tamil</a> | <a href=\"https://www.youtube.com/channel/UCi-eMzVBm4J606TF_jdPL6g?sub_confirmation=1\">ASA Learning Kannada</a>\n",
    "____"
   ]
  },
  {
   "cell_type": "code",
   "execution_count": 1,
   "metadata": {},
   "outputs": [],
   "source": [
    "# Create deck of 52 cards\n",
    "values = ['2','3','4','5','6','7','8','9','10','Jack','Queen','King','Ace']\n",
    "suites = ['♥', '♣', '♢', '♠']\n",
    "deck_of_cards = [v + ' of ' + s for s in suites for v in values]"
   ]
  },
  {
   "cell_type": "code",
   "execution_count": 2,
   "metadata": {},
   "outputs": [
    {
     "name": "stdout",
     "output_type": "stream",
     "text": [
      "['2 of ♥', '3 of ♥', '4 of ♥', '5 of ♥', '6 of ♥', '7 of ♥', '8 of ♥', '9 of ♥', '10 of ♥', 'Jack of ♥', 'Queen of ♥', 'King of ♥', 'Ace of ♥', '2 of ♣', '3 of ♣', '4 of ♣', '5 of ♣', '6 of ♣', '7 of ♣', '8 of ♣', '9 of ♣', '10 of ♣', 'Jack of ♣', 'Queen of ♣', 'King of ♣', 'Ace of ♣', '2 of ♢', '3 of ♢', '4 of ♢', '5 of ♢', '6 of ♢', '7 of ♢', '8 of ♢', '9 of ♢', '10 of ♢', 'Jack of ♢', 'Queen of ♢', 'King of ♢', 'Ace of ♢', '2 of ♠', '3 of ♠', '4 of ♠', '5 of ♠', '6 of ♠', '7 of ♠', '8 of ♠', '9 of ♠', '10 of ♠', 'Jack of ♠', 'Queen of ♠', 'King of ♠', 'Ace of ♠'] and total no. of cards is 52\n"
     ]
    }
   ],
   "source": [
    "print(deck_of_cards, 'and total no. of cards is',len(deck_of_cards))"
   ]
  },
  {
   "cell_type": "code",
   "execution_count": 3,
   "metadata": {},
   "outputs": [],
   "source": [
    "first_half_deck=deck_of_cards[:26]"
   ]
  },
  {
   "cell_type": "code",
   "execution_count": 4,
   "metadata": {},
   "outputs": [
    {
     "name": "stdout",
     "output_type": "stream",
     "text": [
      "['2 of ♥', '3 of ♥', '4 of ♥', '5 of ♥', '6 of ♥', '7 of ♥', '8 of ♥', '9 of ♥', '10 of ♥', 'Jack of ♥', 'Queen of ♥', 'King of ♥', 'Ace of ♥', '2 of ♣', '3 of ♣', '4 of ♣', '5 of ♣', '6 of ♣', '7 of ♣', '8 of ♣', '9 of ♣', '10 of ♣', 'Jack of ♣', 'Queen of ♣', 'King of ♣', 'Ace of ♣']\n"
     ]
    }
   ],
   "source": [
    "print(first_half_deck)"
   ]
  },
  {
   "cell_type": "code",
   "execution_count": 5,
   "metadata": {},
   "outputs": [],
   "source": [
    "second_half_deck=deck_of_cards[26:]"
   ]
  },
  {
   "cell_type": "code",
   "execution_count": 6,
   "metadata": {},
   "outputs": [
    {
     "name": "stdout",
     "output_type": "stream",
     "text": [
      "['2 of ♢', '3 of ♢', '4 of ♢', '5 of ♢', '6 of ♢', '7 of ♢', '8 of ♢', '9 of ♢', '10 of ♢', 'Jack of ♢', 'Queen of ♢', 'King of ♢', 'Ace of ♢', '2 of ♠', '3 of ♠', '4 of ♠', '5 of ♠', '6 of ♠', '7 of ♠', '8 of ♠', '9 of ♠', '10 of ♠', 'Jack of ♠', 'Queen of ♠', 'King of ♠', 'Ace of ♠']\n"
     ]
    }
   ],
   "source": [
    "print(second_half_deck)"
   ]
  },
  {
   "cell_type": "code",
   "execution_count": 7,
   "metadata": {},
   "outputs": [],
   "source": [
    "def spectator_cut(n,l):\n",
    "    return(l[n:])"
   ]
  },
  {
   "cell_type": "code",
   "execution_count": 8,
   "metadata": {},
   "outputs": [
    {
     "name": "stdout",
     "output_type": "stream",
     "text": [
      "['Queen of ♥', 'King of ♥', 'Ace of ♥', '2 of ♣', '3 of ♣', '4 of ♣', '5 of ♣', '6 of ♣', '7 of ♣', '8 of ♣', '9 of ♣', '10 of ♣', 'Jack of ♣', 'Queen of ♣', 'King of ♣', 'Ace of ♣'] and no. of cards are 16\n"
     ]
    }
   ],
   "source": [
    "# Let's say spectator chooses the first half and cuts it to some random number of cards\n",
    "\n",
    "rem_cards=spectator_cut(10,first_half_deck)\n",
    "print(rem_cards,'and no. of cards are',len(rem_cards))\n"
   ]
  },
  {
   "cell_type": "code",
   "execution_count": 9,
   "metadata": {},
   "outputs": [
    {
     "name": "stdout",
     "output_type": "stream",
     "text": [
      "['2 of ♥', '3 of ♥', '4 of ♥', '5 of ♥', '6 of ♥', '7 of ♥', '8 of ♥', '9 of ♥', '10 of ♥', 'Jack of ♥'] and no. of cards are 10\n"
     ]
    }
   ],
   "source": [
    "rem_cards_2=[i for i in first_half_deck] \n",
    "for a in rem_cards:\n",
    "    if a in first_half_deck:\n",
    "        rem_cards_2.remove(a)\n",
    "print(rem_cards_2, 'and no. of cards are', len(rem_cards_2))"
   ]
  },
  {
   "cell_type": "code",
   "execution_count": 10,
   "metadata": {},
   "outputs": [
    {
     "name": "stdout",
     "output_type": "stream",
     "text": [
      "['2 of ♢', '3 of ♢', '4 of ♢', '5 of ♢', '6 of ♢', '7 of ♢', '8 of ♢', '9 of ♢', '10 of ♢', 'Jack of ♢', 'Queen of ♢', 'King of ♢', 'Ace of ♢', '2 of ♠', '3 of ♠', '4 of ♠', '5 of ♠', '6 of ♠', '7 of ♠', '8 of ♠', '9 of ♠', '10 of ♠', 'Jack of ♠', 'Queen of ♠', 'King of ♠', 'Ace of ♠']\n"
     ]
    }
   ],
   "source": [
    "print(second_half_deck)"
   ]
  },
  {
   "cell_type": "code",
   "execution_count": 11,
   "metadata": {},
   "outputs": [
    {
     "name": "stdout",
     "output_type": "stream",
     "text": [
      "24\n"
     ]
    }
   ],
   "source": [
    "print(second_half_deck.index('King of ♠'))# choosen card"
   ]
  },
  {
   "cell_type": "code",
   "execution_count": 12,
   "metadata": {},
   "outputs": [],
   "source": [
    "second_half_deck.insert(0, second_half_deck.pop(second_half_deck.index('King of ♠')))"
   ]
  },
  {
   "cell_type": "code",
   "execution_count": 13,
   "metadata": {},
   "outputs": [
    {
     "name": "stdout",
     "output_type": "stream",
     "text": [
      "['King of ♠', '2 of ♢', '3 of ♢', '4 of ♢', '5 of ♢', '6 of ♢', '7 of ♢', '8 of ♢', '9 of ♢', '10 of ♢', 'Jack of ♢', 'Queen of ♢', 'King of ♢', 'Ace of ♢', '2 of ♠', '3 of ♠', '4 of ♠', '5 of ♠', '6 of ♠', '7 of ♠', '8 of ♠', '9 of ♠', '10 of ♠', 'Jack of ♠', 'Queen of ♠', 'Ace of ♠']\n"
     ]
    }
   ],
   "source": [
    "print(second_half_deck)"
   ]
  },
  {
   "cell_type": "code",
   "execution_count": 14,
   "metadata": {},
   "outputs": [
    {
     "name": "stdout",
     "output_type": "stream",
     "text": [
      "['2 of ♥', '3 of ♥', '4 of ♥', '5 of ♥', '6 of ♥', '7 of ♥', '8 of ♥', '9 of ♥', '10 of ♥', 'Jack of ♥', 'King of ♠', '2 of ♢', '3 of ♢', '4 of ♢', '5 of ♢', '6 of ♢', '7 of ♢', '8 of ♢', '9 of ♢', '10 of ♢', 'Jack of ♢', 'Queen of ♢', 'King of ♢', 'Ace of ♢', '2 of ♠', '3 of ♠', '4 of ♠', '5 of ♠', '6 of ♠', '7 of ♠', '8 of ♠', '9 of ♠', '10 of ♠', 'Jack of ♠', 'Queen of ♠', 'Ace of ♠'] and no of cards are 36\n"
     ]
    }
   ],
   "source": [
    "combined_cards=rem_cards_2+second_half_deck\n",
    "print(combined_cards, 'and no of cards are', len(combined_cards))"
   ]
  },
  {
   "cell_type": "code",
   "execution_count": 15,
   "metadata": {},
   "outputs": [
    {
     "name": "stdout",
     "output_type": "stream",
     "text": [
      "['2 of ♥', 'Ace of ♠', '3 of ♥', 'Queen of ♠', '4 of ♥', 'Jack of ♠', '5 of ♥', '10 of ♠', '6 of ♥', '9 of ♠', '7 of ♥', '8 of ♠', '8 of ♥', '7 of ♠', '9 of ♥', '6 of ♠', '10 of ♥', '5 of ♠', 'Jack of ♥', '4 of ♠', 'King of ♠', '3 of ♠', '2 of ♢', '2 of ♠', '3 of ♢', 'Ace of ♢', '4 of ♢', 'King of ♢', '5 of ♢', 'Queen of ♢', '6 of ♢', 'Jack of ♢', '7 of ♢', '10 of ♢', '8 of ♢', '9 of ♢']\n"
     ]
    }
   ],
   "source": [
    "# Combine one from top and one from bottom\n",
    "for i in range(1,len(combined_cards)+1,2):\n",
    "    combined_cards.insert(i, combined_cards.pop(35))\n",
    "\n",
    "print(combined_cards)"
   ]
  },
  {
   "cell_type": "code",
   "execution_count": 16,
   "metadata": {},
   "outputs": [
    {
     "name": "stdout",
     "output_type": "stream",
     "text": [
      "16\n"
     ]
    }
   ],
   "source": [
    "print(len(rem_cards))"
   ]
  },
  {
   "cell_type": "code",
   "execution_count": 17,
   "metadata": {},
   "outputs": [
    {
     "name": "stdout",
     "output_type": "stream",
     "text": [
      "King of ♠\n"
     ]
    }
   ],
   "source": [
    "print(combined_cards[:len(combined_cards)-len(rem_cards)+1][-1])"
   ]
  }
 ],
 "metadata": {
  "kernelspec": {
   "display_name": "Python 3",
   "language": "python",
   "name": "python3"
  },
  "language_info": {
   "codemirror_mode": {
    "name": "ipython",
    "version": 3
   },
   "file_extension": ".py",
   "mimetype": "text/x-python",
   "name": "python",
   "nbconvert_exporter": "python",
   "pygments_lexer": "ipython3",
   "version": "3.7.3"
  }
 },
 "nbformat": 4,
 "nbformat_minor": 2
}
