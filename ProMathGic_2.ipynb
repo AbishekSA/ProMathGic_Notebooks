{
 "cells": [
  {
   "cell_type": "markdown",
   "metadata": {},
   "source": [
    "\n",
    "___\n",
    "\n",
    "<img src='final_art.jpg' width=\"750\">\n",
    "\n",
    "___\n",
    "\n",
    "# ProMathGic Series #2\n",
    "\n",
    "Reveal of the card trick explained using Python !\n",
    "\n",
    "**This notebook will use the below basic topics:**\n",
    "\n",
    "* Data types\n",
    "    * Numbers\n",
    "    * Strings\n",
    "    * Lists\n",
    "* for Loop\n",
    "* range()\n",
    "* insert()\n",
    "* pop()\n",
    "* Functions\n",
    "\n",
    "##### Like | Share | Subscribe to :  <a href=\"https://www.youtube.com/channel/UCY94xPO3da1xtmKgWQriuPw?sub_confirmation=1\">ASA Learning</a> | <a href=\"https://www.youtube.com/channel/UCRuIm3NMzupmtUuX8DIasvQ?sub_confirmation=1\">ASA Learning Tamil</a> | <a href=\"https://www.youtube.com/channel/UCi-eMzVBm4J606TF_jdPL6g?sub_confirmation=1\">ASA Learning Kannada</a>\n",
    "____"
   ]
  },
  {
   "cell_type": "code",
   "execution_count": 1,
   "metadata": {},
   "outputs": [
    {
     "name": "stdout",
     "output_type": "stream",
     "text": [
      "['Ace of Hearts', 'Ace of Diamonds', 'Ace of Spades', 'Queen of Hearts', 'Queen of Diamonds', 'Queen of Spades', 'King of Hearts', 'King of Diamonds', 'King of Spades']\n"
     ]
    }
   ],
   "source": [
    "# Take any nine cards\n",
    "Cards=['Ace of Hearts', 'Ace of Diamonds', 'Ace of Spades',\n",
    "       'Queen of Hearts', 'Queen of Diamonds', 'Queen of Spades',\n",
    "       'King of Hearts', 'King of Diamonds', 'King of Spades']\n",
    "print(Cards)"
   ]
  },
  {
   "cell_type": "code",
   "execution_count": 2,
   "metadata": {},
   "outputs": [],
   "source": [
    "#Function to shuffle according to Spectator's Choosen card (Spell it)\n",
    "def shuffle(Cards,strlen):\n",
    "    for i in range(0,strlen):\n",
    "        Cards.insert(i,Cards.pop(-1))\n",
    "    print(Cards)"
   ]
  },
  {
   "cell_type": "code",
   "execution_count": 3,
   "metadata": {},
   "outputs": [
    {
     "name": "stdout",
     "output_type": "stream",
     "text": [
      "3\n",
      "['King of Spades', 'King of Diamonds', 'King of Hearts', 'Ace of Hearts', 'Ace of Diamonds', 'Ace of Spades', 'Queen of Hearts', 'Queen of Diamonds', 'Queen of Spades']\n",
      "2\n",
      "['Queen of Spades', 'Queen of Diamonds', 'King of Spades', 'King of Diamonds', 'King of Hearts', 'Ace of Hearts', 'Ace of Diamonds', 'Ace of Spades', 'Queen of Hearts']\n",
      "6\n",
      "['Queen of Hearts', 'Ace of Spades', 'Ace of Diamonds', 'Ace of Hearts', 'King of Hearts', 'King of Diamonds', 'Queen of Spades', 'Queen of Diamonds', 'King of Spades']\n"
     ]
    }
   ],
   "source": [
    "#Spectator can choose any card\n",
    "choosen_card='ten of hearts'\n",
    "listofstr=choosen_card.split(' ')\n",
    "for i in listofstr:\n",
    "    print(len(i))\n",
    "    shuffle(Cards,len(i))"
   ]
  },
  {
   "cell_type": "code",
   "execution_count": 4,
   "metadata": {},
   "outputs": [
    {
     "name": "stdout",
     "output_type": "stream",
     "text": [
      "King of Hearts\n"
     ]
    }
   ],
   "source": [
    "#5th Card -> Will always be the Choosen/Spectator's Card\n",
    "print(Cards[4])"
   ]
  }
 ],
 "metadata": {
  "kernelspec": {
   "display_name": "Python 3",
   "language": "python",
   "name": "python3"
  },
  "language_info": {
   "codemirror_mode": {
    "name": "ipython",
    "version": 3
   },
   "file_extension": ".py",
   "mimetype": "text/x-python",
   "name": "python",
   "nbconvert_exporter": "python",
   "pygments_lexer": "ipython3",
   "version": "3.7.3"
  }
 },
 "nbformat": 4,
 "nbformat_minor": 2
}
