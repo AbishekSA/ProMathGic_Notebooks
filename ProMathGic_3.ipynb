{
 "cells": [
  {
   "cell_type": "markdown",
   "metadata": {},
   "source": [
    "\n",
    "___\n",
    "\n",
    "<img src='final_art.jpg' width=\"750\">\n",
    "\n",
    "___\n",
    "\n",
    "# ProMathGic Series #3\n",
    "\n",
    "Reveal of the card trick explained using Python !\n",
    "\n",
    "**This notebook will use the below basic topics:**\n",
    "\n",
    "* Data types\n",
    "    * Numbers\n",
    "    * Strings\n",
    "    * Lists\n",
    "* List Slicing:\n",
    "    1. First Parameter is the starting index of the list\n",
    "    2. Second Parameter is the ending index of the list\n",
    "    3. Third parameter tells the interpreter to update the index for this much of value on each iteration.\n",
    "* List Comprehension\n",
    "\n",
    "##### Like | Share | Subscribe to :  <a href=\"https://www.youtube.com/channel/UCY94xPO3da1xtmKgWQriuPw?sub_confirmation=1\">ASA Learning</a> | <a href=\"https://www.youtube.com/channel/UCRuIm3NMzupmtUuX8DIasvQ?sub_confirmation=1\">ASA Learning Tamil</a> | <a href=\"https://www.youtube.com/channel/UCi-eMzVBm4J606TF_jdPL6g?sub_confirmation=1\">ASA Learning Kannada</a>\n",
    "____"
   ]
  },
  {
   "cell_type": "code",
   "execution_count": 7,
   "metadata": {},
   "outputs": [
    {
     "name": "stdout",
     "output_type": "stream",
     "text": [
      "['Ten of ♢', 'Jack of ♢', 'Queen of ♢', 'King of ♢', 'Ace of ♢'] ['Ten of ♥', 'Jack of ♥', 'Queen of ♥', 'King of ♥', 'Ace of ♥'] ['Ten of ♠', 'Jack of ♠', 'Queen of ♠', 'King of ♠', 'Ace of ♠']\n"
     ]
    }
   ],
   "source": [
    "# Print 15 cards of three lists each containing 5 cards\n",
    "values = ['Ten','Jack','Queen','King','Ace']\n",
    "A = [v + ' of ' + '♢' for v in values]\n",
    "B = [v + ' of ' + '♥' for v in values]\n",
    "C = [v + ' of ' + '♠' for v in values]\n",
    "print(A,B,C)"
   ]
  },
  {
   "cell_type": "code",
   "execution_count": 8,
   "metadata": {},
   "outputs": [
    {
     "name": "stdout",
     "output_type": "stream",
     "text": [
      "['Ten of ♢', 'Jack of ♢', 'Queen of ♢', 'King of ♢', 'Ace of ♢', 'Queen of ♥', 'King of ♥', 'Ace of ♥', 'Ten of ♥', 'Jack of ♥', 'Ten of ♠', 'Jack of ♠', 'Queen of ♠', 'King of ♠', 'Ace of ♠']\n"
     ]
    }
   ],
   "source": [
    "#Let's assume spectator chooses second list and cuts it to 3\n",
    "single_deck= A+B[2:]+B[:2]+C #Spectator's Card = 'Queen of ♥'\n",
    "\n",
    "#Combine to a single pile of deck\n",
    "print(single_deck) "
   ]
  },
  {
   "cell_type": "code",
   "execution_count": 9,
   "metadata": {},
   "outputs": [
    {
     "name": "stdout",
     "output_type": "stream",
     "text": [
      "Left Pile:  ['Ace of ♠', 'Queen of ♠', 'Ten of ♠', 'Ten of ♥', 'King of ♥', 'Ace of ♢', 'Queen of ♢', 'Ten of ♢']\n",
      "Right Pile:  ['King of ♠', 'Jack of ♠', 'Jack of ♥', 'Ace of ♥', 'Queen of ♥', 'King of ♢', 'Jack of ♢']\n"
     ]
    }
   ],
   "source": [
    "#Seperate odd and even index elements and reveal the spectator's card\n",
    "print('Left Pile: ', single_deck[::2][::-1]) #Always eliminate this list\n",
    "print('Right Pile: ',single_deck[1::2][::-1]) #Spectator's card from top- always will lie @ 3rd position"
   ]
  },
  {
   "cell_type": "code",
   "execution_count": 11,
   "metadata": {},
   "outputs": [
    {
     "name": "stdout",
     "output_type": "stream",
     "text": [
      "Queen of ♥\n"
     ]
    }
   ],
   "source": [
    "#Reveal the Spectator's Card\n",
    "print(single_deck[1::2][:-1][2])"
   ]
  },
  {
   "cell_type": "code",
   "execution_count": null,
   "metadata": {},
   "outputs": [],
   "source": []
  }
 ],
 "metadata": {
  "kernelspec": {
   "display_name": "Python 3",
   "language": "python",
   "name": "python3"
  },
  "language_info": {
   "codemirror_mode": {
    "name": "ipython",
    "version": 3
   },
   "file_extension": ".py",
   "mimetype": "text/x-python",
   "name": "python",
   "nbconvert_exporter": "python",
   "pygments_lexer": "ipython3",
   "version": "3.7.3"
  }
 },
 "nbformat": 4,
 "nbformat_minor": 2
}
