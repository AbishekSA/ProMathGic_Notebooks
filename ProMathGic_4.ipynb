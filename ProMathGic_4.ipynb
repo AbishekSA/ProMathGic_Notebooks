{
 "cells": [
  {
   "cell_type": "markdown",
   "metadata": {},
   "source": [
    "\n",
    "___\n",
    "\n",
    "<img src='final_art.jpg' width=\"750\">\n",
    "\n",
    "___\n",
    "\n",
    "# ProMathGic Series #4\n",
    "\n",
    "Predict the mathematical card trick explained using Python !\n",
    "\n",
    "**This notebook will use the below basic topics:**\n",
    "\n",
    "* Data types\n",
    "    * Numbers\n",
    "    * Strings\n",
    "    * Lists\n",
    "* for Loop\n",
    "* list operations\n",
    "* list comprehension\n",
    "* Functions\n",
    "\n",
    "##### Like | Share | Subscribe to :  <a href=\"https://www.youtube.com/channel/UCY94xPO3da1xtmKgWQriuPw?sub_confirmation=1\">ASA Learning</a> | <a href=\"https://www.youtube.com/channel/UCRuIm3NMzupmtUuX8DIasvQ?sub_confirmation=1\">ASA Learning Tamil</a> | <a href=\"https://www.youtube.com/channel/UCi-eMzVBm4J606TF_jdPL6g?sub_confirmation=1\">ASA Learning Kannada</a>\n",
    "____"
   ]
  },
  {
   "cell_type": "code",
   "execution_count": 1,
   "metadata": {},
   "outputs": [
    {
     "name": "stdout",
     "output_type": "stream",
     "text": [
      "['2 of ♥', '3 of ♥', '4 of ♥', '5 of ♥', '6 of ♥', '7 of ♥', '8 of ♥', '9 of ♥', '10 of ♥', 'Jack of ♥', 'Queen of ♥', 'King of ♥', 'Ace of ♥', '2 of ♣', '3 of ♣', '4 of ♣', '5 of ♣', '6 of ♣', '7 of ♣', '8 of ♣', '9 of ♣', '10 of ♣', 'Jack of ♣', 'Queen of ♣', 'King of ♣', 'Ace of ♣', '2 of ♢', '3 of ♢', '4 of ♢', '5 of ♢', '6 of ♢', '7 of ♢', '8 of ♢', '9 of ♢', '10 of ♢', 'Jack of ♢', 'Queen of ♢', 'King of ♢', 'Ace of ♢', '2 of ♠', '3 of ♠', '4 of ♠', '5 of ♠', '6 of ♠', '7 of ♠', '8 of ♠', '9 of ♠', '10 of ♠', 'Jack of ♠', 'Queen of ♠', 'King of ♠', 'Ace of ♠'] and total no. of cards is 52\n"
     ]
    }
   ],
   "source": [
    "# Create deck of 52 cards\n",
    "values = ['2','3','4','5','6','7','8','9','10','Jack','Queen','King','Ace']\n",
    "suites = ['♥', '♣', '♢', '♠']\n",
    "deck_of_cards = [v + ' of ' + s for s in suites for v in values]\n",
    "print(deck_of_cards, 'and total no. of cards is',len(deck_of_cards))"
   ]
  },
  {
   "cell_type": "code",
   "execution_count": 2,
   "metadata": {},
   "outputs": [
    {
     "data": {
      "text/plain": [
       "'5 of ♠'"
      ]
     },
     "execution_count": 2,
     "metadata": {},
     "output_type": "execute_result"
    }
   ],
   "source": [
    "#Card to memorize-The 10th Card from top - '5 of ♠'\n",
    "deck_of_cards[-10]"
   ]
  },
  {
   "cell_type": "code",
   "execution_count": 3,
   "metadata": {},
   "outputs": [],
   "source": [
    "#Choose a number between 10 and 20\n",
    "#Let's say Spectator chooses the number=16-->1+6=7\n",
    "#Deal 16 Cards from top\n",
    "def reveal_Card(n):\n",
    "    sum=0\n",
    "    for i in str(n):\n",
    "        sum+= int(i)\n",
    "    print(sum)\n",
    "    return(deck_of_cards[-n:][::-1][-sum])"
   ]
  },
  {
   "cell_type": "code",
   "execution_count": 4,
   "metadata": {},
   "outputs": [
    {
     "name": "stdout",
     "output_type": "stream",
     "text": [
      "7\n",
      "5 of ♠\n"
     ]
    }
   ],
   "source": [
    "#Predict the card\n",
    "print(reveal_Card(16))"
   ]
  },
  {
   "cell_type": "code",
   "execution_count": null,
   "metadata": {},
   "outputs": [],
   "source": []
  }
 ],
 "metadata": {
  "kernelspec": {
   "display_name": "Python 3",
   "language": "python",
   "name": "python3"
  },
  "language_info": {
   "codemirror_mode": {
    "name": "ipython",
    "version": 3
   },
   "file_extension": ".py",
   "mimetype": "text/x-python",
   "name": "python",
   "nbconvert_exporter": "python",
   "pygments_lexer": "ipython3",
   "version": "3.7.3"
  }
 },
 "nbformat": 4,
 "nbformat_minor": 2
}
